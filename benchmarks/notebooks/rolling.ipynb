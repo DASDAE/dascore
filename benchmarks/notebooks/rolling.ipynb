{
 "cells": [
  {
   "cell_type": "markdown",
   "metadata": {},
   "source": [
    "# Rolling method\n",
    "\n",
    "A few simple profiling tests to clock rolling method."
   ]
  },
  {
   "cell_type": "code",
   "execution_count": null,
   "metadata": {},
   "outputs": [],
   "source": [
    "import dascore as dc\n",
    "import numba\n",
    "import numpy as np"
   ]
  },
  {
   "cell_type": "code",
   "execution_count": null,
   "metadata": {},
   "outputs": [],
   "source": [
    "def rolling_mean(data, window_size,step_size, axis = 0):\n",
    "    total_samples = data.shape[axis]\n",
    "    mean_values = np.empty((int(total_samples/step_size),data.shape[1]))\n",
    "\n",
    "    for j, k in enumerate(range(0, total_samples, step_size)):\n",
    "\n",
    "        if k+window_size>total_samples:\n",
    "            mean_values[j, :] = np.full((data.shape[1]), np.nan)\n",
    "        else:\n",
    "            mean_values[j, :] = np.mean(\n",
    "                data[k : k + window_size, :], axis=axis\n",
    "            )\n",
    "\n",
    "\n",
    "    return mean_values"
   ]
  },
  {
   "cell_type": "code",
   "execution_count": null,
   "metadata": {},
   "outputs": [],
   "source": [
    "patch = dc.get_example_patch()\n",
    "\n",
    "mean_values = rolling_mean(patch.data, 1000, 2)"
   ]
  },
  {
   "cell_type": "code",
   "execution_count": null,
   "metadata": {},
   "outputs": [],
   "source": [
    "%timeit mean_values = rolling_mean(patch.data, 1000, 1)"
   ]
  },
  {
   "cell_type": "code",
   "execution_count": null,
   "metadata": {},
   "outputs": [],
   "source": [
    "@numba.jit\n",
    "def rolling_mean_numba(data, window_size,step_size, axis = 0):\n",
    "    total_samples = data.shape[axis]\n",
    "    mean_values = np.empty((int(total_samples/step_size),data.shape[1]))\n",
    "\n",
    "    for j, k in enumerate(range(0, total_samples, step_size)):\n",
    "        mean_values[j, :] = np.mean(\n",
    "            data[k : k + window_size, :],\n",
    "        )\n",
    "    return mean_values"
   ]
  },
  {
   "cell_type": "code",
   "execution_count": null,
   "metadata": {},
   "outputs": [],
   "source": [
    "%timeit rolling_mean = rolling_mean_numba(patch.data, 1000, 1)"
   ]
  },
  {
   "cell_type": "code",
   "execution_count": null,
   "metadata": {},
   "outputs": [],
   "source": [
    "import numpy as np\n",
    "import dascore as dc\n",
    "from dascore.units import s\n"
   ]
  },
  {
   "cell_type": "code",
   "execution_count": null,
   "metadata": {},
   "outputs": [],
   "source": [
    "patch = dc.get_example_patch()"
   ]
  },
  {
   "cell_type": "code",
   "execution_count": null,
   "metadata": {},
   "outputs": [],
   "source": [
    "%timeit patch_mean = patch.rolling(time=1*s, step=0.5*s).mean()"
   ]
  },
  {
   "cell_type": "code",
   "execution_count": null,
   "metadata": {},
   "outputs": [],
   "source": [
    "patch = dc.spool(\"/mnt/c/test_spool\")[0]"
   ]
  },
  {
   "cell_type": "code",
   "execution_count": null,
   "metadata": {},
   "outputs": [],
   "source": [
    "%timeit patch_mean = patch.rolling(time=1*s, step=0.5*s).mean()\n"
   ]
  }
 ],
 "metadata": {
  "kernelspec": {
   "display_name": "dascore",
   "language": "python",
   "name": "python3"
  },
  "language_info": {
   "codemirror_mode": {
    "name": "ipython",
    "version": 3
   },
   "file_extension": ".py",
   "mimetype": "text/x-python",
   "name": "python",
   "nbconvert_exporter": "python",
   "pygments_lexer": "ipython3",
   "version": "3.11.3"
  }
 },
 "nbformat": 4,
 "nbformat_minor": 2
}
