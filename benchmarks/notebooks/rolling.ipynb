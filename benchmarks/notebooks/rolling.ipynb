{
 "cells": [
  {
   "cell_type": "markdown",
   "metadata": {},
   "source": [
    "# Rolling method\n",
    "\n",
    "A few simple profiling tests to clock rolling method."
   ]
  },
  {
   "cell_type": "code",
   "execution_count": null,
   "metadata": {},
   "outputs": [],
   "source": [
    "import dascore as dc\n",
    "import numba\n",
    "import numpy as np"
   ]
  },
  {
   "cell_type": "code",
   "execution_count": null,
   "metadata": {},
   "outputs": [],
   "source": [
    "def rolling_mean(data, window_size,step_size, axis = 0):\n",
    "    total_samples = data.shape[axis]\n",
    "    mean_values = np.empty((int(total_samples/step_size),data.shape[1]))\n",
    "\n",
    "    for j, k in enumerate(range(0, total_samples, step_size)):\n",
    "\n",
    "        if k+window_size>total_samples:\n",
    "            mean_values[j, :] = np.full((data.shape[1]), np.nan)\n",
    "        else:\n",
    "            mean_values[j, :] = np.mean(\n",
    "                data[k : k + window_size, :], axis=axis\n",
    "            )\n",
    "\n",
    "\n",
    "    return mean_values"
   ]
  },
  {
   "cell_type": "code",
   "execution_count": null,
   "metadata": {},
   "outputs": [],
   "source": [
    "patch = dc.get_example_patch()\n",
    "\n",
    "mean_values = rolling_mean(patch.data, 1000, 2)"
   ]
  },
  {
   "cell_type": "code",
   "execution_count": null,
   "metadata": {},
   "outputs": [],
   "source": [
    "%timeit mean_values = rolling_mean(patch.data, 1000, 1)"
   ]
  },
  {
   "cell_type": "code",
   "execution_count": null,
   "metadata": {},
   "outputs": [],
   "source": [
    "@numba.jit\n",
    "def rolling_mean_numba(data, window_size,step_size, axis = 0):\n",
    "    total_samples = data.shape[axis]\n",
    "    mean_values = np.empty((int(total_samples/step_size),data.shape[1]))\n",
    "\n",
    "    for j, k in enumerate(range(0, total_samples, step_size)):\n",
    "        mean_values[j, :] = np.mean(\n",
    "            data[k : k + window_size, :],\n",
    "        )\n",
    "    return mean_values"
   ]
  },
  {
   "cell_type": "code",
   "execution_count": null,
   "metadata": {},
   "outputs": [],
   "source": [
    "%timeit rolling_mean = rolling_mean_numba(patch.data, 1000, 1)"
   ]
  },
  {
   "cell_type": "code",
   "execution_count": null,
   "metadata": {},
   "outputs": [],
   "source": [
    "my_data = np.array([[0,1,-2,9.2,8.12,-7,0,0,10.5,0,0],\n",
    "                    [5,4.41,6,-3,-0.01,0,9.8,-5,8.13,10,0],\n",
    "                    [0,0,0,0,12.4,-3,-9,1,2.45,0.001,-2.5]])\n",
    "\n",
    "import pandas as pd\n",
    "\n",
    "df = pd.DataFrame(my_data)\n",
    "rolling_mean = df.rolling(3, step=2, axis=0).mean()\n",
    "print(np.array(rolling_mean))"
   ]
  },
  {
   "cell_type": "code",
   "execution_count": null,
   "metadata": {},
   "outputs": [],
   "source": [
    "my_data = np.array([[0,1,-2,9.2,8.12,-7,0,0,10.5,0,0],\n",
    "                    [5,4.41,6,-3,-0.01,0,9.8,-5,8.13,10,0],\n",
    "                    [0,0,0,0,12.4,-3,-9,1,2.45,0.001,-2.5]])\n",
    "\n",
    "import pandas as pd\n",
    "\n",
    "df = pd.DataFrame(my_data)\n",
    "rolling_mean = df.rolling(3, step=2, axis=1).mean()\n",
    "print(np.array(rolling_mean))"
   ]
  },
  {
   "cell_type": "code",
   "execution_count": null,
   "metadata": {},
   "outputs": [],
   "source": [
    "p = dc.get_example_patch()\n",
    "num_rows = np.random.randint(1, 5)\n",
    "num_cols = np.random.randint(1, 11)\n",
    "my_data = np.random.random((num_rows,num_cols))\n",
    "print(p)\n",
    "print(p.data.shape)\n",
    "p_dec = p.resample(time=np.timedelta64(10, 'ms'))\n",
    "# p.resample(distance=num_rows)\n",
    "# p.new(data=my_data)\n",
    "\n",
    "print(p_dec.data.shape)\n",
    "\n",
    "\n",
    "# print(p.coords)\n"
   ]
  },
  {
   "cell_type": "code",
   "execution_count": null,
   "metadata": {},
   "outputs": [],
   "source": [
    "print(len(p_dec.coords['time']))\n",
    "print(p_dec.attrs['time_step']/np.timedelta64(1, 's'))\n"
   ]
  },
  {
   "cell_type": "code",
   "execution_count": null,
   "metadata": {},
   "outputs": [],
   "source": [
    "print(p.data)"
   ]
  },
  {
   "cell_type": "code",
   "execution_count": null,
   "metadata": {},
   "outputs": [],
   "source": [
    "print(p.data.shape)\n",
    "window_size = 3\n",
    "mean_values = rolling_mean(p.data, window_size =window_size, step_size = 1, axis =0)\n",
    "# mean_values = np.roll(mean_values, int(window_size/2), axis=0)\n",
    "print(mean_values)\n",
    "print(mean_values.shape)\n"
   ]
  },
  {
   "cell_type": "code",
   "execution_count": null,
   "metadata": {},
   "outputs": [],
   "source": [
    "import pandas as pd \n",
    "df = pd.DataFrame(p.data)\n",
    "rolling_mean_panas = df.rolling(3, step=1, axis=0, center=False).mean()\n",
    "print(np.array(rolling_mean_panas))\n",
    "print(np.array(rolling_mean_panas).shape)\n"
   ]
  },
  {
   "cell_type": "code",
   "execution_count": null,
   "metadata": {},
   "outputs": [],
   "source": [
    "import dascore as dc\n",
    "\n",
    "p = dc.get_example_patch(\"iDAS\")\n",
    "print(p)"
   ]
  },
  {
   "cell_type": "code",
   "execution_count": null,
   "metadata": {},
   "outputs": [],
   "source": [
    "dc.__version__"
   ]
  },
  {
   "cell_type": "code",
   "execution_count": null,
   "metadata": {},
   "outputs": [],
   "source": [
    "from dascore.utils.time import to_timedelta64\n",
    "\n",
    "\n",
    "array = np.random.random(size=(2_000, 300))\n",
    "t1 = np.datetime64(\"2017-09-18\")\n",
    "attrs = dict(\n",
    "    d_distance=1,\n",
    "    d_time=to_timedelta64(1 / 250),\n",
    "    category=\"DAS\",\n",
    "    id=\"test_data1\",\n",
    "    time_min=t1,\n",
    ")\n",
    "\n",
    "print(to_timedelta64(1 / 250))\n",
    "coords = dict(\n",
    "    time=np.arange(array.shape[0]) * attrs[\"d_time\"],\n",
    "    distance=np.arange(array.shape[1]) * attrs[\"d_distance\"] ,)\n",
    "dims = ('time', 'distance')\n",
    "\n",
    "pa = dc.Patch(data=array, coords=coords, attrs=attrs, dims=dims)\n",
    "\n",
    "print(pa)"
   ]
  },
  {
   "cell_type": "code",
   "execution_count": null,
   "metadata": {},
   "outputs": [],
   "source": [
    "p = dc.get_example_patch()\n",
    "\n",
    "new_attrs = dict(p.attrs)\n",
    "samples = np.array(p.coords[\"time\"])\n",
    "\n",
    "print(patch.coords)\n",
    "new_coords = {x: patch.coords[x] for x in patch.dims}\n",
    "print(new_coords)\n",
    "\n",
    "reversed_coords = {coord: values[::-1] for coord, values in new_coords.items()}\n",
    "print(reversed_coords)\n",
    "\n",
    "# new_coords[\"time\"] = samples\n",
    "# new_attrs[f\"d_time\"] = dt\n",
    "# new_attrs[f\"min_time\"] = np.min(samples)\n",
    "# new_attrs[f\"max_time\"] = np.max(samples)\n",
    "# new_patch = patch.new(data=p.data.T, attrs=new_attrs, dims=patch.dims, coords=new_coords)"
   ]
  },
  {
   "cell_type": "code",
   "execution_count": null,
   "metadata": {},
   "outputs": [],
   "source": [
    "import dascore as dc\n",
    "pa = dc.get_example_patch()\n",
    "\n",
    "# update start time should also shift endtime\n",
    "pa1 = pa.update_attrs(time_min='2000-01-01')\n",
    "\n",
    "print(pa.attrs['time_min'])\n",
    "print(pa1.attrs['time_min'])"
   ]
  }
 ],
 "metadata": {
  "kernelspec": {
   "display_name": "Python 3 (ipykernel)",
   "language": "python",
   "name": "python3"
  },
  "language_info": {
   "codemirror_mode": {
    "name": "ipython",
    "version": 3
   },
   "file_extension": ".py",
   "mimetype": "text/x-python",
   "name": "python",
   "nbconvert_exporter": "python",
   "pygments_lexer": "ipython3",
   "version": "3.10.11"
  }
 },
 "nbformat": 4,
 "nbformat_minor": 4
}
