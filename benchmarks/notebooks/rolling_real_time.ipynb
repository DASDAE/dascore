{
 "cells": [
  {
   "attachments": {},
   "cell_type": "markdown",
   "metadata": {},
   "source": [
    "# An Example of Real-Time DAS Processing Using a Rolling Mean Function\n",
    "\n",
    "This Jupyter Notebook is created to showcase rolling mean processing on a [spool](https://dascore.org/tutorial/concepts.html#:~:text=read%20the%20docs!-,Data%20structures,-DASCore%20has%20two) of distributed acoustic sensing (DAS) data in real-time.\n",
    " "
   ]
  },
  {
   "cell_type": "code",
   "execution_count": null,
   "metadata": {},
   "outputs": [],
   "source": [
    "# Import libraries\n",
    "import os\n",
    "import time\n",
    "import warnings\n",
    "\n",
    "import dascore as dc\n",
    "import numpy as np\n",
    "\n",
    "from dascore.units import s  # s as seconds\n",
    "\n",
    "warnings.simplefilter('ignore')\n"
   ]
  },
  {
   "cell_type": "markdown",
   "metadata": {},
   "source": [
    "### Get a spool of data to work on"
   ]
  },
  {
   "cell_type": "code",
   "execution_count": null,
   "metadata": {},
   "outputs": [],
   "source": [
    "# Define data path (spool of data) and output folder \n",
    "data_path = '/mnt/h/data'\n",
    "output_data_folder =  '/mnt/h/results'\n",
    "\n",
    "# Get the sorted spool of data form the defined data path (on first run, it will index the patches and subsequently update the index file for future uses)\n",
    "sp = dc.spool(data_path).sort(\"time\").update()\n",
    "\n",
    "# Print the contents of first 5 patches\n",
    "content_df = sp.get_contents()\n",
    "content_df.head()"
   ]
  },
  {
   "cell_type": "markdown",
   "metadata": {},
   "source": [
    "### Get some metadata and set real-time processing parameters"
   ]
  },
  {
   "cell_type": "code",
   "execution_count": null,
   "metadata": {},
   "outputs": [],
   "source": [
    "# Get sampling rate, channel spacing, and gauge length from the first patch\n",
    "patch_0 = sp[0]\n",
    "\n",
    "gauge_length = patch_0.attrs['gauge_length']\n",
    "print(f\"Gauge length = {gauge_length}\")\n",
    "\n",
    "channel_spacing = patch_0.attrs['d_distance']\n",
    "print(f\"Channel spacing = {channel_spacing}\")\n",
    "\n",
    "sampling_interval = patch_0.attrs['d_time']\n",
    "print(f\"Sampling interval = {sampling_interval}\")\n",
    "\n",
    "sampling_rate = 1/(sampling_interval / np.timedelta64(1, 's'))\n",
    "print(f\"Sampling rate = {sampling_rate}\")\n",
    "\n",
    "num_sec = len(patch_0.coords[\"time\"]) / sampling_rate\n",
    "print(f\"Number of seconds in each patch = {num_sec}\")\n",
    "\n",
    "# Define the target sampling interval (in sec.)\n",
    "d_t = 10 # Here, cutoff_freq = Nyq_new = 1/(2*d_t) = 0.05 hz\n",
    "\n",
    "# Determine window size (in sec.)\n",
    "window = d_t*s\n",
    "\n",
    "# Determine step size (in sec.)\n",
    "step = d_t*s\n",
    "\n",
    "# Set the desired wait time after each run (in sec.)\n",
    "time_step_for_processing = 60 \n"
   ]
  },
  {
   "cell_type": "markdown",
   "metadata": {},
   "source": [
    "### Rolling mean processing in real-time"
   ]
  },
  {
   "cell_type": "code",
   "execution_count": null,
   "metadata": {},
   "outputs": [],
   "source": [
    "# Start the for loop for real-time processing\n",
    "i = 0\n",
    "while True:\n",
    "    initial_run = (i == 0)\n",
    "    run_num = i+1\n",
    "    print(f\"\\nRun number: {run_num}\")\n",
    "\n",
    "    # Select a updated sub-spool\n",
    "    sp = dc.spool(data_path).sort(\"time\").update()\n",
    "    len_updated_sp = len(sp)\n",
    "\n",
    "    # Break the while loop if there are no new patches in the spool\n",
    "    if not initial_run and len_last_sp == len_updated_sp: # sleep first and then break\n",
    "        time.sleep(4*time_step_for_processing)    \n",
    "\n",
    "        sp = dc.spool(data_path).sort(\"time\").update()\n",
    "        len_updated_sp = len(sp)\n",
    "\n",
    "        print(\"No new data was detected in spool after . \"\n",
    "            \"Real-time data processing ended successfully.\")\n",
    "        break\n",
    "\n",
    "    # Do processing on each patch in the spool\n",
    "    for j, patch in enumerate (sp[len_last_sp:]): # check\n",
    "        print(f\"Working on patch number: {j}\")\n",
    "\n",
    "        rolling_mean_patch = patch.rolling(time=window, step=step, engine=\"numpy\").mean()\n",
    "\n",
    "        # Save results after processing\n",
    "        file_name = sp.get_contents()[\"path\"][j]\n",
    "        output_path = os.path.join(output_data_folder, file_name)\n",
    "        rolling_mean_patch.io.write(output_path, \"dasdae\")\n",
    "\n",
    "    len_last_sp = len(sp)\n",
    "    i+=1\n",
    "\n",
    "    # Wait for new data to get into the data_path before proceeding with a new run\n",
    "    time.sleep(time_step_for_processing)\n"
   ]
  }
 ],
 "metadata": {
  "kernelspec": {
   "display_name": "dascore",
   "language": "python",
   "name": "python3"
  },
  "language_info": {
   "codemirror_mode": {
    "name": "ipython",
    "version": 3
   },
   "file_extension": ".py",
   "mimetype": "text/x-python",
   "name": "python",
   "nbconvert_exporter": "python",
   "pygments_lexer": "ipython3",
   "version": "3.11.4"
  }
 },
 "nbformat": 4,
 "nbformat_minor": 2
}
