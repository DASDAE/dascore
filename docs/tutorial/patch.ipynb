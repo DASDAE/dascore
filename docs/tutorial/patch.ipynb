{
 "cells": [
  {
   "cell_type": "raw",
   "id": "a580100f",
   "metadata": {},
   "source": [
    "---\n",
    "title: Patch\n",
    "execute:\n",
    "  warning: false\n",
    "---"
   ]
  },
  {
   "cell_type": "markdown",
   "id": "621a84de",
   "metadata": {},
   "source": [
    "A [`Patch`](`dascore.core.patch.Patch`) is a section of contiguous, uniformly sampled data and metadata.\n",
    "\n",
    ":::{.callout-note}\n",
    "The `Patch` design was heavily inspired by\n",
    "[Xarray's `DataArray` object](https://docs.xarray.dev/en/stable/generated/xarray.DataArray.html)\n",
    ":::\n",
    "\n",
    "# Creating Patches\n",
    "\n",
    "Patches can be generated in a few ways.\n",
    "\n",
    "## Load an Example Patch\n",
    "\n",
    "This example patch contains some artificially generated data. They are mostly used\n",
    "for simple demonstrations or testing.\n"
   ]
  },
  {
   "cell_type": "code",
   "execution_count": null,
   "id": "38707e92",
   "metadata": {},
   "outputs": [],
   "source": [
    "import dascore as dc\n",
    "\n",
    "pa = dc.get_example_patch()"
   ]
  },
  {
   "cell_type": "markdown",
   "id": "f05947a1",
   "metadata": {},
   "source": [
    "## Load a File\n",
    "\n",
    "We first download a small example fiber file from a URL in the DASCore library (you need an internet connection).\n",
    "Next, we simply read it into a [spool](spool.qmd) object then get the first (and only) patch.\n"
   ]
  },
  {
   "cell_type": "code",
   "execution_count": null,
   "id": "9bcfe10f",
   "metadata": {},
   "outputs": [],
   "source": [
    "import dascore as dc\n",
    "from dascore.utils.downloader import fetch\n",
    "\n",
    "path = fetch(\"terra15_das_1_trimmed.hdf5\")  # path to a datafile\n",
    "\n",
    "pa = dc.read(path)[0]\n",
    "# or\n",
    "pa = dc.spool(path)[0]"
   ]
  },
  {
   "cell_type": "markdown",
   "id": "13bc936d",
   "metadata": {},
   "source": [
    ":::{.callout-note)\n",
    "Both `dc.read` and `dc.spool` can be used to load data from a file.\n",
    "`dc.read` will load the file contents into memory, whereas `dc.spool` will,\n",
    "depending on the file support for scanning, often load data lazily.\n",
    "\n",
    "Usually `dc.spool` is the function you want.\n",
    ":::\n",
    "\n",
    "## Create from Scratch\n",
    "\n",
    "Patches can also be created from NumPy arrays and dictionaries. This requires:\n",
    "\n",
    "- The data array\n",
    "- The coordinates for labeling each axis\n",
    "- The attributes (optional)\n"
   ]
  },
  {
   "cell_type": "code",
   "execution_count": null,
   "id": "341e5d6b",
   "metadata": {},
   "outputs": [],
   "source": [
    "import numpy as np\n",
    "\n",
    "import dascore as dc\n",
    "from dascore.utils.time import to_timedelta64\n",
    "\n",
    "# Create the patch data\n",
    "array = np.random.random(size=(300, 2_000))\n",
    "\n",
    "# Create attributes, or metadata\n",
    "t1 = np.datetime64(\"2017-09-18\")\n",
    "attrs = dict(\n",
    "    d_distance=1,\n",
    "    d_time=to_timedelta64(1 / 250),\n",
    "    category=\"DAS\",\n",
    "    id=\"test_data1\",\n",
    "    time_min=t1,\n",
    ")\n",
    "\n",
    "# Create coordinates, labels for each axis in the array.\n",
    "coords = dict(\n",
    "    distance=np.arange(array.shape[0]) * attrs[\"d_distance\"],\n",
    "    time=np.arange(array.shape[1]) * attrs[\"d_time\"],\n",
    ")\n",
    "\n",
    "# define dimensions (first label corresponds to data axis 0)\n",
    "dims = ('distance', 'time')\n",
    "\n",
    "pa = dc.Patch(data=array, coords=coords, attrs=attrs, dims=dims)\n",
    "print(pa)"
   ]
  },
  {
   "cell_type": "markdown",
   "id": "3740a403",
   "metadata": {},
   "source": [
    "# Attrs\n",
    "\n",
    "The metadata stored in `Patch.attrs` is a\n",
    "[pydnatic model](https://docs.pydantic.dev/usage/models/) which enforces some\n",
    "basic schema validation. You can print the schema info like this:\n"
   ]
  },
  {
   "cell_type": "code",
   "execution_count": null,
   "id": "4bbcb1ae",
   "metadata": {},
   "outputs": [],
   "source": [
    "import dascore as dc\n",
    "\n",
    "print(dc.PatchAttrs.__doc__)"
   ]
  },
  {
   "cell_type": "markdown",
   "id": "79d65a8f",
   "metadata": {},
   "source": [
    "# Processing\n",
    "\n",
    "For various reasons, Patches should be treated as *immutable*, meaning they should\n",
    "not be modified in place, but rather new patches created when something needs to be\n",
    "modified.\n",
    "\n",
    "The patch has several methods which are intended to be chained together via a\n",
    "[fluent interface](https://en.wikipedia.org/wiki/Fluent_interface), meaning each\n",
    "method returns a new `Patch` instance.\n"
   ]
  },
  {
   "cell_type": "code",
   "execution_count": null,
   "id": "2323ac0a",
   "metadata": {},
   "outputs": [],
   "source": [
    "import dascore as dc\n",
    "pa = dc.get_example_patch()\n",
    "\n",
    "out = (\n",
    "    pa.decimate(time=8)  # decimate to reduce data volume by 8 along time dimension\n",
    "    .detrend(dim='distance')  # detrend along distance dimension\n",
    "    .pass_filter(time=(None, 10))  # apply a low-pass 10 Hz butterworth filter\n",
    ")"
   ]
  },
  {
   "cell_type": "markdown",
   "id": "07987e8f",
   "metadata": {},
   "source": [
    "The processing methods are located in the [dascore.proc](`dascore.proc`) package.\n",
    "\n",
    "# Visualization\n",
    "\n",
    "DASCore provides various visualization functions found in the [dascore.viz](`dascore.viz`)\n",
    "package or using the `Patch.viz` namespace. DASCore generally only implements simple, matplotlib\n",
    "based visualizations but other DASDAE packages will do more interesting visualizations.\n"
   ]
  },
  {
   "cell_type": "code",
   "execution_count": null,
   "id": "14458ca8",
   "metadata": {},
   "outputs": [],
   "source": [
    "import dascore as dc\n",
    "patch = (\n",
    "    dc.get_example_patch('example_event_1')\n",
    "    .pass_filter(time=(None, 300))\n",
    ")\n",
    "\n",
    "patch.viz.waterfall(show=True, scale=0.04);"
   ]
  },
  {
   "cell_type": "markdown",
   "id": "7fc022fe",
   "metadata": {},
   "source": [
    "# Modifying Patches\n",
    "\n",
    "Because patches should be treated as immutable objects, you can't just modify\n",
    "them with normal item assignment. There are a few methods that return new\n",
    "patches with modifications, however, that are functionally the same.\n",
    "\n",
    "## New\n",
    "\n",
    "Often you may wish to modify one aspect of the patch. [`Patch.new`](`dascore.core.patch.Patch.new`)\n",
    "is designed for this purpose:\n"
   ]
  },
  {
   "cell_type": "code",
   "execution_count": null,
   "id": "372080e0",
   "metadata": {},
   "outputs": [],
   "source": [
    "import dascore as dc\n",
    "pa = dc.get_example_patch()\n",
    "\n",
    "# create a copy of patch with new data but coords and attrs stay the same\n",
    "new = pa.new(data=pa.data * 10)"
   ]
  },
  {
   "cell_type": "markdown",
   "id": "aade3a0c",
   "metadata": {},
   "source": [
    "## Update Attrs\n",
    "\n",
    "[`Patch.update_attrs`](`dascore.core.patch.Patch.update_attrs`) is for making small changes\n",
    "to the patch attrs (metadata) while keeping the unaffected metadata (`Patch.new` would require\n",
    "you replace the entirety of attrs).\n"
   ]
  },
  {
   "cell_type": "code",
   "execution_count": null,
   "id": "e7dd2bb7",
   "metadata": {},
   "outputs": [],
   "source": [
    "import dascore as dc\n",
    "pa = dc.get_example_patch()\n",
    "\n",
    "# update existing attribute 'network' and create new attr 'new_attr'\n",
    "pa1 = pa.update_attrs(**{'network': 'exp1', 'new_attr': 42})"
   ]
  },
  {
   "cell_type": "markdown",
   "id": "ef5a0ce1",
   "metadata": {},
   "source": [
    "`Patch.update_attrs` also tries to keep the patch attributes consistent.\n",
    "For example, changing the start, end, or sampling of a dimension should\n",
    "update the other attributes affected by the change.\n"
   ]
  },
  {
   "cell_type": "code",
   "execution_count": null,
   "id": "66762c95",
   "metadata": {},
   "outputs": [],
   "source": [
    "import dascore as dc\n",
    "pa = dc.get_example_patch()\n",
    "\n",
    "# update start time should also shift endtime\n",
    "pa1 = pa.update_attrs(time_min='2000-01-01')\n",
    "\n",
    "print(pa.attrs['time_min'])\n",
    "print(pa1.attrs['time_min'])"
   ]
  },
  {
   "cell_type": "markdown",
   "id": "0d4fc1db",
   "metadata": {},
   "source": [
    "# Method Chaining\n",
    "\n",
    "In most cases, you should use method chaining as part of a\n",
    "[fluent interface](https://en.wikipedia.org/wiki/Fluent_interface) when working with patches.\n",
    "\n",
    "For example:\n",
    "```{.python}\n",
    "import dascore as dc\n",
    "\n",
    "pa = (\n",
    "    dc.get_example_patch()  # load the patch\n",
    "    .pass_filter(time=(1, 10)  # apply bandpass filter\n",
    "    .detrend(dim='time')  # detrend along time dimension\n",
    ")\n",
    "```\n",
    "\n",
    "Similar to Pandas, `Patch` has a [pipe method](`dascore.core.patch.Patch.pipe`) so non-patch methods\n",
    "can still be used in a method chain.\n",
    "\n",
    "\n",
    "```{.python}\n",
    "import dascore as dc\n",
    "\n",
    "def func(patch, arg1=1):\n",
    "    \"\"\"Example non-patch method\"\"\"\n",
    "    return patch.update_attrs(arg1=1)\n",
    "\n",
    "pa = (\n",
    "    dc.get_example_patch()\n",
    "    .pass_filter(time=(None, 10))\n",
    "    .detrend('time', 'linear')\n",
    "    .pipe(func, arg1=3)\n",
    ")\n",
    "```\n",
    "\n",
    "# Adding Coordinates\n",
    "\n",
    "It is common to have additional coordinates, such as latitude/longitude,\n",
    "attached to a particular dimension (e.g., distance). There are two ways\n",
    "to add coordinates to a patch:\n",
    "\n",
    "## Assign Coordinates\n",
    "\n",
    "The [assign_coordinates](`dascore.utils.coords.assign_coords`) method will\n",
    "add the requested coordinates and return a new patch instance.\n"
   ]
  },
  {
   "cell_type": "code",
   "execution_count": null,
   "id": "80f5b486",
   "metadata": {},
   "outputs": [],
   "source": [
    "import numpy as np\n",
    "import dascore as dc\n",
    "pa = dc.get_example_patch()\n",
    "coords = pa.coords\n",
    "dist = coords['distance']\n",
    "time = coords['time']\n",
    "\n",
    "# Add a single coordinate associated with distance dimension\n",
    "lat = np.arange(0, len(dist)) * .001 -109.857952\n",
    "out_1 = pa.assign_coords(latitude=('distance', lat))\n",
    "\n",
    "# Add multiple coordinates associated with distance dimension\n",
    "lon = np.arange(0, len(dist)) *.001 + 41.544654\n",
    "out_2 = pa.assign_coords(\n",
    "    latitude=('distance', lat),\n",
    "    longitude=('distance', lon),\n",
    ")\n",
    "\n",
    "# Add multi-dimensional coordinates\n",
    "quality = np.ones_like(pa.data)\n",
    "out_3 = pa.assign_coords(\n",
    "    quality=(pa.dims, quality)\n",
    ")"
   ]
  },
  {
   "cell_type": "markdown",
   "id": "89ac4d7b",
   "metadata": {},
   "source": [
    "## Coords in Patch Initialization\n",
    "\n",
    "Any number of coordinates can also be assigned when the patch is initiated. For\n",
    "coordinates other than those of the patch dimensions, the associated dimensions\n",
    "must be specified. For example:\n"
   ]
  },
  {
   "cell_type": "code",
   "execution_count": null,
   "id": "dc7730cc",
   "metadata": {},
   "outputs": [],
   "source": [
    "import dascore as dc\n",
    "import numpy as np\n",
    "\n",
    "# create data for patch\n",
    "rand = np.random.RandomState(13)\n",
    "array = rand.random(size=(20, 100))\n",
    "time1 = np.datetime64(\"2020-01-01\")\n",
    "\n",
    "# create patch attrs\n",
    "attrs = dict(dx=1, d_time=1 / 250.0, category=\"DAS\", id=\"test_data1\")\n",
    "time_deltas = dc.to_timedelta64(np.arange(array.shape[1]) * attrs[\"d_time\"])\n",
    "\n",
    "# create coordinate data\n",
    "distance = np.arange(array.shape[0]) * attrs[\"dx\"]\n",
    "time = time1 + time_deltas\n",
    "quality = np.ones_like(array)\n",
    "latitude = np.arange(array.shape[0]) * .001 - 111.00\n",
    "\n",
    "# create coord dict\n",
    "coords = dict(\n",
    "    distance=distance,\n",
    "    time=time,\n",
    "    latitude=(\"distance\", latitude),  # Note distance is attached dimension\n",
    "    quality=((\"distance\", \"time\"), quality),  # Two attached dimensions here\n",
    ")\n",
    "\n",
    "# Define dimensions of array and init Patch\n",
    "dims = (\"distance\", \"time\")\n",
    "out = dc.Patch(data=array, coords=coords, attrs=attrs, dims=dims)"
   ]
  }
 ],
 "metadata": {
  "kernelspec": {
   "display_name": "Python 3 (ipykernel)",
   "language": "python",
   "name": "python3"
  },
  "language_info": {
   "codemirror_mode": {
    "name": "ipython",
    "version": 3
   },
   "file_extension": ".py",
   "mimetype": "text/x-python",
   "name": "python",
   "nbconvert_exporter": "python",
   "pygments_lexer": "ipython3",
   "version": "3.10.1"
  }
 },
 "nbformat": 4,
 "nbformat_minor": 5
}
