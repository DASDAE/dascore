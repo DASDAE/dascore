{
 "cells": [
  {
   "cell_type": "markdown",
   "id": "72d0ae65",
   "metadata": {},
   "source": [
    "# Quickstart\n",
    "\n",
    "A quickstart for FIOS.\n",
    "\n",
    "The goal of this document is to lay out an API for a developing package"
   ]
  },
  {
   "cell_type": "code",
   "execution_count": null,
   "id": "7aeefd04",
   "metadata": {},
   "outputs": [],
   "source": [
    "import fios"
   ]
  },
  {
   "cell_type": "markdown",
   "id": "4141b383",
   "metadata": {},
   "source": [
    "## IO\n",
    "Read in a single file"
   ]
  },
  {
   "cell_type": "code",
   "execution_count": null,
   "id": "1bdfefa1",
   "metadata": {},
   "outputs": [],
   "source": [
    "st = fios.read_fiber('path/to/fiber.hdf5')\n",
    "# access the first trace (contiguous data array of the same ID)\n",
    "tr = st[0]"
   ]
  },
  {
   "cell_type": "markdown",
   "id": "cdd01677",
   "metadata": {},
   "source": [
    "Index and query data from a directory of fiber files (called a Spool)"
   ]
  },
  {
   "cell_type": "code",
   "execution_count": null,
   "id": "c4b23a1a",
   "metadata": {},
   "outputs": [],
   "source": [
    "spool = fios.Spool('path/to/directory').update_index()"
   ]
  },
  {
   "cell_type": "markdown",
   "id": "1d107361",
   "metadata": {},
   "source": [
    "get a stream from interogator AA for a specifc time range"
   ]
  },
  {
   "cell_type": "code",
   "execution_count": null,
   "id": "f3bff4bd",
   "metadata": {},
   "outputs": [],
   "source": [
    "tr = spool.get_fiber(id='AA', time=('2021-01-15T10:01:12', '2021-01-15T10:03:12'))[0]"
   ]
  },
  {
   "cell_type": "markdown",
   "id": "881d10c4",
   "metadata": {},
   "source": [
    "Put data into a spool"
   ]
  },
  {
   "cell_type": "code",
   "execution_count": null,
   "id": "5dc42bc3",
   "metadata": {},
   "outputs": [],
   "source": [
    "spool.put_fiber(tr)"
   ]
  },
  {
   "cell_type": "markdown",
   "id": "bfa7f4bd",
   "metadata": {},
   "source": [
    "## Selecting Data in Traces"
   ]
  },
  {
   "cell_type": "markdown",
   "id": "fa227d30",
   "metadata": {},
   "source": [
    "Trim trace to only include 5 seconds from start to 5 seconds from end, exclude first 100m stretch"
   ]
  },
  {
   "cell_type": "code",
   "execution_count": null,
   "id": "8d29ae58",
   "metadata": {},
   "outputs": [],
   "source": [
    "tr1 = tr.select(time=(5, -5), distance=(100, None))"
   ]
  },
  {
   "cell_type": "markdown",
   "id": "3f52459e",
   "metadata": {},
   "source": [
    "see trace attributes|"
   ]
  },
  {
   "cell_type": "code",
   "execution_count": null,
   "id": "d788ecab",
   "metadata": {},
   "outputs": [],
   "source": [
    "print(tr1.attrs)  # {'time_min': datetime64('2021-021-15T10:01:17'), id: 'AA', ...}"
   ]
  },
  {
   "cell_type": "markdown",
   "id": "c09c8c7a",
   "metadata": {},
   "source": [
    "See dimension names of trace (eg, usually 'time', 'distance') "
   ]
  },
  {
   "cell_type": "code",
   "execution_count": null,
   "id": "65b40fc4",
   "metadata": {},
   "outputs": [],
   "source": [
    "print(tr1.dims)"
   ]
  },
  {
   "cell_type": "markdown",
   "id": "65b81463",
   "metadata": {},
   "source": [
    "Modify attributes, return new trace"
   ]
  },
  {
   "cell_type": "code",
   "execution_count": null,
   "id": "60e22b88",
   "metadata": {},
   "outputs": [],
   "source": [
    "# set new starttime, will update endtime, etc. \n",
    "tr2 = tr1.update_attrs(starttime='2022-01-01')"
   ]
  },
  {
   "cell_type": "markdown",
   "id": "014deedd",
   "metadata": {},
   "source": [
    "Create new trace with identical attributes but different data"
   ]
  },
  {
   "cell_type": "code",
   "execution_count": null,
   "id": "bdacd3f9",
   "metadata": {},
   "outputs": [],
   "source": [
    "data = tr2.data + 10  # add 10 to each data element\n",
    "tr3 = tr2.new(data=data)"
   ]
  },
  {
   "cell_type": "markdown",
   "id": "0cea88e3",
   "metadata": {},
   "source": [
    "Create new trace with different distance attributes"
   ]
  },
  {
   "cell_type": "code",
   "execution_count": null,
   "id": "ac1b3a52",
   "metadata": {},
   "outputs": [],
   "source": [
    "distance = tr2.coords.distance / 10\n",
    "tr4 = tr3.new(coords={'distance': distance, 'time': tr2.coords.time})"
   ]
  },
  {
   "cell_type": "markdown",
   "id": "c198cf42",
   "metadata": {},
   "source": [
    "## Trace Data Processing"
   ]
  },
  {
   "cell_type": "markdown",
   "id": "dcb0aac2",
   "metadata": {},
   "source": [
    "Examaple of method chaining to form a data processing pipeline"
   ]
  },
  {
   "cell_type": "code",
   "execution_count": null,
   "id": "fda2a703",
   "metadata": {},
   "outputs": [],
   "source": [
    "tr5 = (\n",
    "    tr4.decimate(10, low_pass=True)  # decimate 10x, lowpass first. \n",
    "    .detrend(dim='time', linear=True)  # detrend on time axis\n",
    "    .pass_filter(frequency=(None, 100))  # apply 100 Hz Highpass\n",
    "    .stop_filter(frequency=(50, 70))  # followed by 50 to 70 notch filter\n",
    "    .compute()  # Needed for delayed resolution on distributed processing?, or is context manager better?\n",
    ")"
   ]
  },
  {
   "cell_type": "markdown",
   "id": "b2dca1ea",
   "metadata": {},
   "source": [
    "## Trace Transformation\n",
    "Examples of transforming trace data"
   ]
  },
  {
   "cell_type": "code",
   "execution_count": null,
   "id": "0de5f6a3",
   "metadata": {},
   "outputs": [],
   "source": [
    "tr_fft = tr5.transform.rfft(dim='time')  # fft along time dimension\n",
    "print(tr_fft.dims)  # dims are now (frequency, distance)"
   ]
  },
  {
   "cell_type": "code",
   "execution_count": null,
   "id": "344d876a",
   "metadata": {},
   "outputs": [],
   "source": [
    "tr_ifft = tr5.transform.irfft(dim='time')  # transform back to time domain"
   ]
  },
  {
   "cell_type": "markdown",
   "id": "f1e800ae",
   "metadata": {},
   "source": [
    "Also, 2D transforms (eg fk)"
   ]
  },
  {
   "cell_type": "code",
   "execution_count": null,
   "id": "856b608e",
   "metadata": {},
   "outputs": [],
   "source": [
    "tr_fk = tr5.transform.fk()"
   ]
  },
  {
   "cell_type": "markdown",
   "id": "264bff68",
   "metadata": {},
   "source": [
    "And more complicated transforms..."
   ]
  },
  {
   "cell_type": "code",
   "execution_count": null,
   "id": "24bc8f2b",
   "metadata": {},
   "outputs": [],
   "source": [
    "tr5.transform.marr_wavelette()"
   ]
  },
  {
   "cell_type": "markdown",
   "id": "881661e5",
   "metadata": {},
   "source": [
    "## Writing trace functions/methods\n",
    "Example of writing processing methods for trace. The require decorator allows the declaration and enforcement of expectations of the input trace. "
   ]
  },
  {
   "cell_type": "code",
   "execution_count": null,
   "id": "c9bbda4e",
   "metadata": {},
   "outputs": [],
   "source": [
    "# a decorator to declare what the function requires of the trace\n",
    "@fios.require(dims=('time', 'distance'))  # raise if time/distance are not in dimensions\n",
    "def some_function(tr: fios.Trace, arg1=10) -> fios.Trace:\n",
    "    \"\"\"An example of a function to do something to a trace.\"\"\"\n",
    "    data = tr.data\n",
    "    time = tr.coords.time\n",
    "    new_data = data / np.std(data, axis=1)\n",
    "    return tr.new(data=new_data)\n",
    "    "
   ]
  },
  {
   "cell_type": "markdown",
   "id": "7cd6d606",
   "metadata": {},
   "source": [
    "## Visualization\n",
    "Make a waterfall plot, return figure. `"
   ]
  },
  {
   "cell_type": "code",
   "execution_count": null,
   "id": "9cf0ef77",
   "metadata": {},
   "outputs": [],
   "source": [
    "fig = tr5.viz.waterfall_plot()"
   ]
  },
  {
   "cell_type": "markdown",
   "id": "bee64aeb",
   "metadata": {},
   "source": [
    "Make a shot gather plot"
   ]
  },
  {
   "cell_type": "code",
   "execution_count": null,
   "id": "f0099150",
   "metadata": {},
   "outputs": [],
   "source": [
    "fig = tr5.viz.shot_gather()"
   ]
  },
  {
   "cell_type": "markdown",
   "id": "04ea29f1",
   "metadata": {},
   "source": [
    "## Streams\n",
    "Streams are a collection of traces. Most trace methods are also found on streams but are performed in parallel for each trace."
   ]
  },
  {
   "cell_type": "code",
   "execution_count": null,
   "id": "3ddc9149",
   "metadata": {},
   "outputs": [],
   "source": [
    "st = spool.read_fiber()  # deplayed, out of core, read of all files in directory"
   ]
  },
  {
   "cell_type": "code",
   "execution_count": null,
   "id": "487cac2a",
   "metadata": {},
   "outputs": [],
   "source": [
    "st1 = (\n",
    "    st.merge()  # merge all contiguous blocks with the same id\n",
    "    .rechunk(time=10, distance=300)  # rechunk traces in memory\n",
    "    .decimate(5)  # decimate all streams\n",
    "    .filter(frequency=(1, 200), wavelength=(None, 100))  # wavelength and frequency filter\n",
    ")"
   ]
  },
  {
   "cell_type": "markdown",
   "id": "74e65a3b",
   "metadata": {},
   "source": [
    "No computations have been performed on the stream yet; it is all delayed computations.\n",
    "Specify batches and batch over stream data"
   ]
  },
  {
   "cell_type": "code",
   "execution_count": null,
   "id": "2dd6cbcc",
   "metadata": {},
   "outputs": [],
   "source": [
    "for sub_st in st1.batch(chunks=10):\n",
    "    st_new = (\n",
    "        sub_st.update_attrs(id='AA_processed')\n",
    "        .some_other_method()\n",
    "        .compute()  # resolves delayed computation graph now\n",
    "    )\n",
    "    spool.put_fiber(st_new)  # put processed fiber data back into bank with new ID\n"
   ]
  }
 ],
 "metadata": {
  "kernelspec": {
   "display_name": "Python 3 (ipykernel)",
   "language": "python",
   "name": "python3"
  },
  "language_info": {
   "codemirror_mode": {
    "name": "ipython",
    "version": 3
   },
   "file_extension": ".py",
   "mimetype": "text/x-python",
   "name": "python",
   "nbconvert_exporter": "python",
   "pygments_lexer": "ipython3",
   "version": "3.8.5"
  }
 },
 "nbformat": 4,
 "nbformat_minor": 5
}
